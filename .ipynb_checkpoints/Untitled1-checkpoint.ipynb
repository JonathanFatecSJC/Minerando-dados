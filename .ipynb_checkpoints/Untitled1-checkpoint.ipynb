{
 "cells": [
  {
   "cell_type": "code",
   "execution_count": 33,
   "metadata": {},
   "outputs": [
    {
     "data": {
      "text/plain": [
       "(33405, 22)"
      ]
     },
     "execution_count": 33,
     "metadata": {},
     "output_type": "execute_result"
    }
   ],
   "source": [
    "import pandas as pd\n",
    "import matplotlib.pyplot as plt\n",
    "import seaborn as sns\n",
    "df_pib = pd.read_fwf('pib_municipios_2010-2015.txt',\n",
    "       colspecs=[(0, 4),(5, 7),(8, 33),(34, 41),(42, 82),(83, 193),(194, 198),\n",
    "                        (199, 239),(240, 245),(246, 286),(287, 305),(306, 324),\n",
    "                        (325, 343),(344, 362),(363, 381),(382, 400),(401, 419),\n",
    "                        (420, 438),(439, 457),(458, 552),(553, 647),(648, 741)],\n",
    "names=['Ano','CodUF','NomeUF','CodMunicipio','NomeMunicipio',\n",
    "'RegiaoMetropolitana','CodMeso','NomeMeso','CodMicro','NomeMicro',\n",
    "'ValAgropecuaria','ValIndustria','ValServicos','ValAdministracao','ValTotal',\n",
    "'Impostos','PIB','Populacao','PIBperCapita','Atividade1','Atividade2','Atividade3'],\n",
    "       encoding='iso-8859-1')\n",
    " \n",
    "df_pib.shape"
   ]
  },
  {
   "cell_type": "code",
   "execution_count": 34,
   "metadata": {},
   "outputs": [
    {
     "data": {
      "text/html": [
       "<div>\n",
       "<style scoped>\n",
       "    .dataframe tbody tr th:only-of-type {\n",
       "        vertical-align: middle;\n",
       "    }\n",
       "\n",
       "    .dataframe tbody tr th {\n",
       "        vertical-align: top;\n",
       "    }\n",
       "\n",
       "    .dataframe thead th {\n",
       "        text-align: right;\n",
       "    }\n",
       "</style>\n",
       "<table border=\"1\" class=\"dataframe\">\n",
       "  <thead>\n",
       "    <tr style=\"text-align: right;\">\n",
       "      <th></th>\n",
       "      <th>Ano</th>\n",
       "      <th>CodUF</th>\n",
       "      <th>CodMunicipio</th>\n",
       "      <th>CodMeso</th>\n",
       "      <th>CodMicro</th>\n",
       "      <th>ValAgropecuaria</th>\n",
       "      <th>ValIndustria</th>\n",
       "      <th>ValServicos</th>\n",
       "      <th>ValAdministracao</th>\n",
       "      <th>ValTotal</th>\n",
       "      <th>Impostos</th>\n",
       "      <th>PIB</th>\n",
       "      <th>Populacao</th>\n",
       "      <th>PIBperCapita</th>\n",
       "    </tr>\n",
       "  </thead>\n",
       "  <tbody>\n",
       "    <tr>\n",
       "      <th>count</th>\n",
       "      <td>33405.000000</td>\n",
       "      <td>33405.000000</td>\n",
       "      <td>3.340500e+04</td>\n",
       "      <td>33405.000000</td>\n",
       "      <td>33405.000000</td>\n",
       "      <td>3.340500e+04</td>\n",
       "      <td>3.340500e+04</td>\n",
       "      <td>3.340500e+04</td>\n",
       "      <td>3.340500e+04</td>\n",
       "      <td>3.340500e+04</td>\n",
       "      <td>3.340500e+04</td>\n",
       "      <td>3.340500e+04</td>\n",
       "      <td>3.340500e+04</td>\n",
       "      <td>33405.000000</td>\n",
       "    </tr>\n",
       "    <tr>\n",
       "      <th>mean</th>\n",
       "      <td>2012.500674</td>\n",
       "      <td>32.375034</td>\n",
       "      <td>3.253322e+06</td>\n",
       "      <td>3241.768657</td>\n",
       "      <td>32392.669780</td>\n",
       "      <td>3.891283e+04</td>\n",
       "      <td>1.932754e+05</td>\n",
       "      <td>4.133159e+05</td>\n",
       "      <td>1.268249e+05</td>\n",
       "      <td>7.723291e+05</td>\n",
       "      <td>1.312286e+05</td>\n",
       "      <td>9.035578e+05</td>\n",
       "      <td>3.548717e+04</td>\n",
       "      <td>16400.413815</td>\n",
       "    </tr>\n",
       "    <tr>\n",
       "      <th>std</th>\n",
       "      <td>1.707851</td>\n",
       "      <td>9.831175</td>\n",
       "      <td>9.846424e+05</td>\n",
       "      <td>983.368606</td>\n",
       "      <td>9832.237892</td>\n",
       "      <td>6.738751e+04</td>\n",
       "      <td>1.330696e+06</td>\n",
       "      <td>5.557806e+06</td>\n",
       "      <td>1.165049e+06</td>\n",
       "      <td>7.580282e+06</td>\n",
       "      <td>1.727973e+06</td>\n",
       "      <td>9.283016e+06</td>\n",
       "      <td>2.093234e+05</td>\n",
       "      <td>19186.716757</td>\n",
       "    </tr>\n",
       "    <tr>\n",
       "      <th>min</th>\n",
       "      <td>2010.000000</td>\n",
       "      <td>11.000000</td>\n",
       "      <td>1.100015e+06</td>\n",
       "      <td>1101.000000</td>\n",
       "      <td>11001.000000</td>\n",
       "      <td>-2.299985e+03</td>\n",
       "      <td>-2.897193e+06</td>\n",
       "      <td>1.206547e+03</td>\n",
       "      <td>4.226545e+03</td>\n",
       "      <td>-5.105931e+05</td>\n",
       "      <td>-1.508840e+04</td>\n",
       "      <td>-1.904643e+04</td>\n",
       "      <td>8.050000e+02</td>\n",
       "      <td>-1459.830000</td>\n",
       "    </tr>\n",
       "    <tr>\n",
       "      <th>25%</th>\n",
       "      <td>2011.000000</td>\n",
       "      <td>25.000000</td>\n",
       "      <td>2.512101e+06</td>\n",
       "      <td>2503.000000</td>\n",
       "      <td>25015.000000</td>\n",
       "      <td>7.959709e+03</td>\n",
       "      <td>2.848243e+03</td>\n",
       "      <td>1.246012e+04</td>\n",
       "      <td>1.810579e+04</td>\n",
       "      <td>5.207609e+04</td>\n",
       "      <td>2.004885e+03</td>\n",
       "      <td>5.430425e+04</td>\n",
       "      <td>5.341000e+03</td>\n",
       "      <td>6803.940000</td>\n",
       "    </tr>\n",
       "    <tr>\n",
       "      <th>50%</th>\n",
       "      <td>2013.000000</td>\n",
       "      <td>31.000000</td>\n",
       "      <td>3.146255e+06</td>\n",
       "      <td>3110.000000</td>\n",
       "      <td>31047.000000</td>\n",
       "      <td>1.947879e+04</td>\n",
       "      <td>8.842215e+03</td>\n",
       "      <td>3.210226e+04</td>\n",
       "      <td>3.439273e+04</td>\n",
       "      <td>1.129375e+05</td>\n",
       "      <td>5.940534e+03</td>\n",
       "      <td>1.194995e+05</td>\n",
       "      <td>1.124700e+04</td>\n",
       "      <td>11805.840000</td>\n",
       "    </tr>\n",
       "    <tr>\n",
       "      <th>75%</th>\n",
       "      <td>2014.000000</td>\n",
       "      <td>41.000000</td>\n",
       "      <td>4.119152e+06</td>\n",
       "      <td>4106.000000</td>\n",
       "      <td>41024.000000</td>\n",
       "      <td>4.324251e+04</td>\n",
       "      <td>5.000120e+04</td>\n",
       "      <td>1.033789e+05</td>\n",
       "      <td>7.361767e+04</td>\n",
       "      <td>2.979966e+05</td>\n",
       "      <td>2.344645e+04</td>\n",
       "      <td>3.232405e+05</td>\n",
       "      <td>2.425200e+04</td>\n",
       "      <td>19856.340000</td>\n",
       "    </tr>\n",
       "    <tr>\n",
       "      <th>max</th>\n",
       "      <td>2015.000000</td>\n",
       "      <td>53.000000</td>\n",
       "      <td>5.300108e+06</td>\n",
       "      <td>5301.000000</td>\n",
       "      <td>53001.000000</td>\n",
       "      <td>1.772674e+06</td>\n",
       "      <td>6.689305e+07</td>\n",
       "      <td>4.314654e+08</td>\n",
       "      <td>8.329459e+07</td>\n",
       "      <td>5.367224e+08</td>\n",
       "      <td>1.138224e+08</td>\n",
       "      <td>6.505448e+08</td>\n",
       "      <td>1.196782e+07</td>\n",
       "      <td>815697.760000</td>\n",
       "    </tr>\n",
       "  </tbody>\n",
       "</table>\n",
       "</div>"
      ],
      "text/plain": [
       "                Ano         CodUF  CodMunicipio       CodMeso      CodMicro  \\\n",
       "count  33405.000000  33405.000000  3.340500e+04  33405.000000  33405.000000   \n",
       "mean    2012.500674     32.375034  3.253322e+06   3241.768657  32392.669780   \n",
       "std        1.707851      9.831175  9.846424e+05    983.368606   9832.237892   \n",
       "min     2010.000000     11.000000  1.100015e+06   1101.000000  11001.000000   \n",
       "25%     2011.000000     25.000000  2.512101e+06   2503.000000  25015.000000   \n",
       "50%     2013.000000     31.000000  3.146255e+06   3110.000000  31047.000000   \n",
       "75%     2014.000000     41.000000  4.119152e+06   4106.000000  41024.000000   \n",
       "max     2015.000000     53.000000  5.300108e+06   5301.000000  53001.000000   \n",
       "\n",
       "       ValAgropecuaria  ValIndustria   ValServicos  ValAdministracao  \\\n",
       "count     3.340500e+04  3.340500e+04  3.340500e+04      3.340500e+04   \n",
       "mean      3.891283e+04  1.932754e+05  4.133159e+05      1.268249e+05   \n",
       "std       6.738751e+04  1.330696e+06  5.557806e+06      1.165049e+06   \n",
       "min      -2.299985e+03 -2.897193e+06  1.206547e+03      4.226545e+03   \n",
       "25%       7.959709e+03  2.848243e+03  1.246012e+04      1.810579e+04   \n",
       "50%       1.947879e+04  8.842215e+03  3.210226e+04      3.439273e+04   \n",
       "75%       4.324251e+04  5.000120e+04  1.033789e+05      7.361767e+04   \n",
       "max       1.772674e+06  6.689305e+07  4.314654e+08      8.329459e+07   \n",
       "\n",
       "           ValTotal      Impostos           PIB     Populacao   PIBperCapita  \n",
       "count  3.340500e+04  3.340500e+04  3.340500e+04  3.340500e+04   33405.000000  \n",
       "mean   7.723291e+05  1.312286e+05  9.035578e+05  3.548717e+04   16400.413815  \n",
       "std    7.580282e+06  1.727973e+06  9.283016e+06  2.093234e+05   19186.716757  \n",
       "min   -5.105931e+05 -1.508840e+04 -1.904643e+04  8.050000e+02   -1459.830000  \n",
       "25%    5.207609e+04  2.004885e+03  5.430425e+04  5.341000e+03    6803.940000  \n",
       "50%    1.129375e+05  5.940534e+03  1.194995e+05  1.124700e+04   11805.840000  \n",
       "75%    2.979966e+05  2.344645e+04  3.232405e+05  2.425200e+04   19856.340000  \n",
       "max    5.367224e+08  1.138224e+08  6.505448e+08  1.196782e+07  815697.760000  "
      ]
     },
     "execution_count": 34,
     "metadata": {},
     "output_type": "execute_result"
    }
   ],
   "source": [
    "df_pib.describe()"
   ]
  },
  {
   "cell_type": "code",
   "execution_count": 35,
   "metadata": {},
   "outputs": [
    {
     "data": {
      "text/plain": [
       "Minas Gerais           5118\n",
       "São Paulo              3870\n",
       "Rio Grande do Sul      2979\n",
       "Bahia                  2502\n",
       "Paraná                 2394\n",
       "Santa Catarina         1764\n",
       "Goiás                  1476\n",
       "Piauí                  1344\n",
       "Paraíba                1338\n",
       "Maranhão               1302\n",
       "Pernambuco             1110\n",
       "Ceará                  1104\n",
       "Rio Grande do Norte    1002\n",
       "Pará                    861\n",
       "Mato Grosso             846\n",
       "Tocantins               834\n",
       "Alagoas                 612\n",
       "Rio de Janeiro          552\n",
       "Mato Grosso do Sul      471\n",
       "Espírito Santo          468\n",
       "Sergipe                 450\n",
       "Amazonas                372\n",
       "Rondônia                312\n",
       "Acre                    132\n",
       "Amapá                    96\n",
       "Roraima                  90\n",
       "Distrito Federal          6\n",
       "Name: NomeUF, dtype: int64"
      ]
     },
     "execution_count": 35,
     "metadata": {},
     "output_type": "execute_result"
    }
   ],
   "source": [
    "df_pib.NomeUF.value_counts()"
   ]
  },
  {
   "cell_type": "code",
   "execution_count": 2,
   "metadata": {},
   "outputs": [
    {
     "ename": "SyntaxError",
     "evalue": "invalid character in identifier (<ipython-input-2-cc7bd500d0ed>, line 1)",
     "output_type": "error",
     "traceback": [
      "\u001b[0;36m  File \u001b[0;32m\"<ipython-input-2-cc7bd500d0ed>\"\u001b[0;36m, line \u001b[0;32m1\u001b[0m\n\u001b[0;31m    df_pib.NomeMunicipio                # retorna uma Series representando aquela coluna\u001b[0m\n\u001b[0m                                       ^\u001b[0m\n\u001b[0;31mSyntaxError\u001b[0m\u001b[0;31m:\u001b[0m invalid character in identifier\n"
     ]
    }
   ],
   "source": [
    "df_pib.NomeMunicipio                # retorna uma Series representando aquela coluna\n",
    "df_pib['NomeMunicipio']             # o mesmo usando colchetes\n",
    "df_pib[['NomeMunicipio', 'NomeUF']]          # retorna um DataFrame contendo duas colunas"
   ]
  },
  {
   "cell_type": "code",
   "execution_count": 37,
   "metadata": {},
   "outputs": [
    {
     "data": {
      "text/html": [
       "<div>\n",
       "<style scoped>\n",
       "    .dataframe tbody tr th:only-of-type {\n",
       "        vertical-align: middle;\n",
       "    }\n",
       "\n",
       "    .dataframe tbody tr th {\n",
       "        vertical-align: top;\n",
       "    }\n",
       "\n",
       "    .dataframe thead th {\n",
       "        text-align: right;\n",
       "    }\n",
       "</style>\n",
       "<table border=\"1\" class=\"dataframe\">\n",
       "  <thead>\n",
       "    <tr style=\"text-align: right;\">\n",
       "      <th></th>\n",
       "      <th>Ano</th>\n",
       "      <th>CodUF</th>\n",
       "      <th>NomeUF</th>\n",
       "      <th>CodMunicipio</th>\n",
       "      <th>NomeMunicipio</th>\n",
       "    </tr>\n",
       "  </thead>\n",
       "  <tbody>\n",
       "    <tr>\n",
       "      <th>0</th>\n",
       "      <td>2010</td>\n",
       "      <td>11</td>\n",
       "      <td>Rondônia</td>\n",
       "      <td>1100015</td>\n",
       "      <td>Alta Floresta D'Oeste</td>\n",
       "    </tr>\n",
       "    <tr>\n",
       "      <th>1</th>\n",
       "      <td>2010</td>\n",
       "      <td>11</td>\n",
       "      <td>Rondônia</td>\n",
       "      <td>1100023</td>\n",
       "      <td>Ariquemes</td>\n",
       "    </tr>\n",
       "    <tr>\n",
       "      <th>2</th>\n",
       "      <td>2010</td>\n",
       "      <td>11</td>\n",
       "      <td>Rondônia</td>\n",
       "      <td>1100031</td>\n",
       "      <td>Cabixi</td>\n",
       "    </tr>\n",
       "  </tbody>\n",
       "</table>\n",
       "</div>"
      ],
      "text/plain": [
       "    Ano  CodUF    NomeUF  CodMunicipio          NomeMunicipio\n",
       "0  2010     11  Rondônia       1100015  Alta Floresta D'Oeste\n",
       "1  2010     11  Rondônia       1100023              Ariquemes\n",
       "2  2010     11  Rondônia       1100031                 Cabixi"
      ]
     },
     "execution_count": 37,
     "metadata": {},
     "output_type": "execute_result"
    }
   ],
   "source": [
    "df_pib.loc[:,'Ano']                 # todas as linhas apenas uma coluna\n",
    "df_pib.loc[0,:]                     # todas as colunas apenas uma linha\n",
    "df_pib.loc[0:2,'Ano':'NomeMunicipio']        # retorna intervalo de campos das 3 primeiras linhas"
   ]
  },
  {
   "cell_type": "code",
   "execution_count": 38,
   "metadata": {},
   "outputs": [
    {
     "data": {
      "text/html": [
       "<div>\n",
       "<style scoped>\n",
       "    .dataframe tbody tr th:only-of-type {\n",
       "        vertical-align: middle;\n",
       "    }\n",
       "\n",
       "    .dataframe tbody tr th {\n",
       "        vertical-align: top;\n",
       "    }\n",
       "\n",
       "    .dataframe thead th {\n",
       "        text-align: right;\n",
       "    }\n",
       "</style>\n",
       "<table border=\"1\" class=\"dataframe\">\n",
       "  <thead>\n",
       "    <tr style=\"text-align: right;\">\n",
       "      <th></th>\n",
       "      <th>Ano</th>\n",
       "      <th>CodUF</th>\n",
       "      <th>NomeUF</th>\n",
       "      <th>CodMunicipio</th>\n",
       "      <th>NomeMunicipio</th>\n",
       "    </tr>\n",
       "  </thead>\n",
       "  <tbody>\n",
       "    <tr>\n",
       "      <th>33404</th>\n",
       "      <td>2015</td>\n",
       "      <td>53</td>\n",
       "      <td>Distrito Federal</td>\n",
       "      <td>5300108</td>\n",
       "      <td>Brasília</td>\n",
       "    </tr>\n",
       "    <tr>\n",
       "      <th>33403</th>\n",
       "      <td>2015</td>\n",
       "      <td>52</td>\n",
       "      <td>Goiás</td>\n",
       "      <td>5222302</td>\n",
       "      <td>Vila Propício</td>\n",
       "    </tr>\n",
       "    <tr>\n",
       "      <th>33402</th>\n",
       "      <td>2015</td>\n",
       "      <td>52</td>\n",
       "      <td>Goiás</td>\n",
       "      <td>5222203</td>\n",
       "      <td>Vila Boa</td>\n",
       "    </tr>\n",
       "  </tbody>\n",
       "</table>\n",
       "</div>"
      ],
      "text/plain": [
       "        Ano  CodUF            NomeUF  CodMunicipio  NomeMunicipio\n",
       "33404  2015     53  Distrito Federal       5300108       Brasília\n",
       "33403  2015     52             Goiás       5222302  Vila Propício\n",
       "33402  2015     52             Goiás       5222203       Vila Boa"
      ]
     },
     "execution_count": 38,
     "metadata": {},
     "output_type": "execute_result"
    }
   ],
   "source": [
    "df_pib.iloc[0:3,0:5]                         # mesma coisa indexando pela posição relativa\n",
    "df_pib.iloc[-3:,0:5]                         # o mesmo com as últimas 3 linhas\n",
    "df_pib.iloc[2::-1,0:5]                       # retorna as três primeiras na ordem inversa\n",
    "df_pib.iloc[-1:-4:-1,0:5]                    # retorna as três últimas na ordem inversa"
   ]
  },
  {
   "cell_type": "code",
   "execution_count": 39,
   "metadata": {},
   "outputs": [
    {
     "data": {
      "text/html": [
       "<div>\n",
       "<style scoped>\n",
       "    .dataframe tbody tr th:only-of-type {\n",
       "        vertical-align: middle;\n",
       "    }\n",
       "\n",
       "    .dataframe tbody tr th {\n",
       "        vertical-align: top;\n",
       "    }\n",
       "\n",
       "    .dataframe thead th {\n",
       "        text-align: right;\n",
       "    }\n",
       "</style>\n",
       "<table border=\"1\" class=\"dataframe\">\n",
       "  <thead>\n",
       "    <tr style=\"text-align: right;\">\n",
       "      <th></th>\n",
       "      <th>Ano</th>\n",
       "      <th>CodUF</th>\n",
       "      <th>NomeUF</th>\n",
       "      <th>CodMunicipio</th>\n",
       "      <th>NomeMunicipio</th>\n",
       "      <th>RegiaoMetropolitana</th>\n",
       "      <th>CodMeso</th>\n",
       "      <th>NomeMeso</th>\n",
       "      <th>CodMicro</th>\n",
       "      <th>NomeMicro</th>\n",
       "      <th>...</th>\n",
       "      <th>ValServicos</th>\n",
       "      <th>ValAdministracao</th>\n",
       "      <th>ValTotal</th>\n",
       "      <th>Impostos</th>\n",
       "      <th>PIB</th>\n",
       "      <th>Populacao</th>\n",
       "      <th>PIBperCapita</th>\n",
       "      <th>Atividade1</th>\n",
       "      <th>Atividade2</th>\n",
       "      <th>Atividade3</th>\n",
       "    </tr>\n",
       "  </thead>\n",
       "  <tbody>\n",
       "    <tr>\n",
       "      <th>3374</th>\n",
       "      <td>2010</td>\n",
       "      <td>35</td>\n",
       "      <td>São Paulo</td>\n",
       "      <td>3509502</td>\n",
       "      <td>Campinas</td>\n",
       "      <td>RM Campinas</td>\n",
       "      <td>3507</td>\n",
       "      <td>Campinas</td>\n",
       "      <td>35032</td>\n",
       "      <td>Campinas</td>\n",
       "      <td>...</td>\n",
       "      <td>2.045438e+07</td>\n",
       "      <td>2802883.564</td>\n",
       "      <td>3.088598e+07</td>\n",
       "      <td>7.309047e+06</td>\n",
       "      <td>3.819502e+07</td>\n",
       "      <td>1080999</td>\n",
       "      <td>35333.08</td>\n",
       "      <td>Demais serviços</td>\n",
       "      <td>Indústrias de transformação</td>\n",
       "      <td>Comércio e reparação de veículos automotores e...</td>\n",
       "    </tr>\n",
       "    <tr>\n",
       "      <th>8939</th>\n",
       "      <td>2011</td>\n",
       "      <td>35</td>\n",
       "      <td>São Paulo</td>\n",
       "      <td>3509502</td>\n",
       "      <td>Campinas</td>\n",
       "      <td>RM Campinas</td>\n",
       "      <td>3507</td>\n",
       "      <td>Campinas</td>\n",
       "      <td>35032</td>\n",
       "      <td>Campinas</td>\n",
       "      <td>...</td>\n",
       "      <td>2.448138e+07</td>\n",
       "      <td>3121156.087</td>\n",
       "      <td>3.622905e+07</td>\n",
       "      <td>8.384697e+06</td>\n",
       "      <td>4.461375e+07</td>\n",
       "      <td>1090386</td>\n",
       "      <td>40915.55</td>\n",
       "      <td>Demais serviços</td>\n",
       "      <td>Comércio e reparação de veículos automotores e...</td>\n",
       "      <td>Indústrias de transformação</td>\n",
       "    </tr>\n",
       "    <tr>\n",
       "      <th>14504</th>\n",
       "      <td>2012</td>\n",
       "      <td>35</td>\n",
       "      <td>São Paulo</td>\n",
       "      <td>3509502</td>\n",
       "      <td>Campinas</td>\n",
       "      <td>RM Campinas</td>\n",
       "      <td>3507</td>\n",
       "      <td>Campinas</td>\n",
       "      <td>35032</td>\n",
       "      <td>Campinas</td>\n",
       "      <td>...</td>\n",
       "      <td>2.719888e+07</td>\n",
       "      <td>3375945.728</td>\n",
       "      <td>3.941962e+07</td>\n",
       "      <td>9.019058e+06</td>\n",
       "      <td>4.843868e+07</td>\n",
       "      <td>1098630</td>\n",
       "      <td>44090.07</td>\n",
       "      <td>Demais serviços</td>\n",
       "      <td>Comércio e reparação de veículos automotores e...</td>\n",
       "      <td>Indústrias de transformação</td>\n",
       "    </tr>\n",
       "    <tr>\n",
       "      <th>20070</th>\n",
       "      <td>2013</td>\n",
       "      <td>35</td>\n",
       "      <td>São Paulo</td>\n",
       "      <td>3509502</td>\n",
       "      <td>Campinas</td>\n",
       "      <td>RM Campinas</td>\n",
       "      <td>3507</td>\n",
       "      <td>Campinas</td>\n",
       "      <td>35032</td>\n",
       "      <td>Campinas</td>\n",
       "      <td>...</td>\n",
       "      <td>3.082468e+07</td>\n",
       "      <td>3872483.608</td>\n",
       "      <td>4.444641e+07</td>\n",
       "      <td>9.917445e+06</td>\n",
       "      <td>5.436386e+07</td>\n",
       "      <td>1144862</td>\n",
       "      <td>47485.07</td>\n",
       "      <td>Demais serviços</td>\n",
       "      <td>Comércio e reparação de veículos automotores e...</td>\n",
       "      <td>Indústrias de transformação</td>\n",
       "    </tr>\n",
       "    <tr>\n",
       "      <th>25640</th>\n",
       "      <td>2014</td>\n",
       "      <td>35</td>\n",
       "      <td>São Paulo</td>\n",
       "      <td>3509502</td>\n",
       "      <td>Campinas</td>\n",
       "      <td>RM Campinas</td>\n",
       "      <td>3507</td>\n",
       "      <td>Campinas</td>\n",
       "      <td>35032</td>\n",
       "      <td>Campinas</td>\n",
       "      <td>...</td>\n",
       "      <td>3.184408e+07</td>\n",
       "      <td>4023728.648</td>\n",
       "      <td>4.543929e+07</td>\n",
       "      <td>9.199722e+06</td>\n",
       "      <td>5.463901e+07</td>\n",
       "      <td>1154617</td>\n",
       "      <td>47322.20</td>\n",
       "      <td>Demais serviços</td>\n",
       "      <td>Comércio e reparação de veículos automotores e...</td>\n",
       "      <td>Indústrias de transformação</td>\n",
       "    </tr>\n",
       "    <tr>\n",
       "      <th>31210</th>\n",
       "      <td>2015</td>\n",
       "      <td>35</td>\n",
       "      <td>São Paulo</td>\n",
       "      <td>3509502</td>\n",
       "      <td>Campinas</td>\n",
       "      <td>RM Campinas</td>\n",
       "      <td>3507</td>\n",
       "      <td>Campinas</td>\n",
       "      <td>35032</td>\n",
       "      <td>Campinas</td>\n",
       "      <td>...</td>\n",
       "      <td>3.214636e+07</td>\n",
       "      <td>4414559.942</td>\n",
       "      <td>4.632752e+07</td>\n",
       "      <td>1.007262e+07</td>\n",
       "      <td>5.640015e+07</td>\n",
       "      <td>1164098</td>\n",
       "      <td>48449.65</td>\n",
       "      <td>Demais serviços</td>\n",
       "      <td>Comércio e reparação de veículos automotores e...</td>\n",
       "      <td>Indústrias de transformação</td>\n",
       "    </tr>\n",
       "  </tbody>\n",
       "</table>\n",
       "<p>6 rows × 22 columns</p>\n",
       "</div>"
      ],
      "text/plain": [
       "        Ano  CodUF     NomeUF  CodMunicipio NomeMunicipio RegiaoMetropolitana  \\\n",
       "3374   2010     35  São Paulo       3509502      Campinas         RM Campinas   \n",
       "8939   2011     35  São Paulo       3509502      Campinas         RM Campinas   \n",
       "14504  2012     35  São Paulo       3509502      Campinas         RM Campinas   \n",
       "20070  2013     35  São Paulo       3509502      Campinas         RM Campinas   \n",
       "25640  2014     35  São Paulo       3509502      Campinas         RM Campinas   \n",
       "31210  2015     35  São Paulo       3509502      Campinas         RM Campinas   \n",
       "\n",
       "       CodMeso  NomeMeso  CodMicro NomeMicro  ...   ValServicos  \\\n",
       "3374      3507  Campinas     35032  Campinas  ...  2.045438e+07   \n",
       "8939      3507  Campinas     35032  Campinas  ...  2.448138e+07   \n",
       "14504     3507  Campinas     35032  Campinas  ...  2.719888e+07   \n",
       "20070     3507  Campinas     35032  Campinas  ...  3.082468e+07   \n",
       "25640     3507  Campinas     35032  Campinas  ...  3.184408e+07   \n",
       "31210     3507  Campinas     35032  Campinas  ...  3.214636e+07   \n",
       "\n",
       "       ValAdministracao      ValTotal      Impostos           PIB  Populacao  \\\n",
       "3374        2802883.564  3.088598e+07  7.309047e+06  3.819502e+07    1080999   \n",
       "8939        3121156.087  3.622905e+07  8.384697e+06  4.461375e+07    1090386   \n",
       "14504       3375945.728  3.941962e+07  9.019058e+06  4.843868e+07    1098630   \n",
       "20070       3872483.608  4.444641e+07  9.917445e+06  5.436386e+07    1144862   \n",
       "25640       4023728.648  4.543929e+07  9.199722e+06  5.463901e+07    1154617   \n",
       "31210       4414559.942  4.632752e+07  1.007262e+07  5.640015e+07    1164098   \n",
       "\n",
       "       PIBperCapita       Atividade1  \\\n",
       "3374       35333.08  Demais serviços   \n",
       "8939       40915.55  Demais serviços   \n",
       "14504      44090.07  Demais serviços   \n",
       "20070      47485.07  Demais serviços   \n",
       "25640      47322.20  Demais serviços   \n",
       "31210      48449.65  Demais serviços   \n",
       "\n",
       "                                              Atividade2  \\\n",
       "3374                         Indústrias de transformação   \n",
       "8939   Comércio e reparação de veículos automotores e...   \n",
       "14504  Comércio e reparação de veículos automotores e...   \n",
       "20070  Comércio e reparação de veículos automotores e...   \n",
       "25640  Comércio e reparação de veículos automotores e...   \n",
       "31210  Comércio e reparação de veículos automotores e...   \n",
       "\n",
       "                                              Atividade3  \n",
       "3374   Comércio e reparação de veículos automotores e...  \n",
       "8939                         Indústrias de transformação  \n",
       "14504                        Indústrias de transformação  \n",
       "20070                        Indústrias de transformação  \n",
       "25640                        Indústrias de transformação  \n",
       "31210                        Indústrias de transformação  \n",
       "\n",
       "[6 rows x 22 columns]"
      ]
     },
     "execution_count": 39,
     "metadata": {},
     "output_type": "execute_result"
    }
   ],
   "source": [
    "df_pib[ df_pib.NomeMunicipio == 'Campinas' ]"
   ]
  },
  {
   "cell_type": "code",
   "execution_count": 40,
   "metadata": {},
   "outputs": [
    {
     "data": {
      "text/plain": [
       "2015    5570\n",
       "2014    5570\n",
       "2013    5570\n",
       "2012    5565\n",
       "2011    5565\n",
       "2010    5565\n",
       "Name: Ano, dtype: int64"
      ]
     },
     "execution_count": 40,
     "metadata": {},
     "output_type": "execute_result"
    }
   ],
   "source": [
    "df_pib.Ano.value_counts()"
   ]
  },
  {
   "cell_type": "code",
   "execution_count": 3,
   "metadata": {},
   "outputs": [
    {
     "ename": "IndentationError",
     "evalue": "unexpected indent (<ipython-input-3-c3a735bba06c>, line 2)",
     "output_type": "error",
     "traceback": [
      "\u001b[0;36m  File \u001b[0;32m\"<ipython-input-3-c3a735bba06c>\"\u001b[0;36m, line \u001b[0;32m2\u001b[0m\n\u001b[0;31m    .join(df_pib[df_pib.NomeMunicipio == 'Campinas'].ValTotal /\u001b[0m\n\u001b[0m    ^\u001b[0m\n\u001b[0;31mIndentationError\u001b[0m\u001b[0;31m:\u001b[0m unexpected indent\n"
     ]
    }
   ],
   "source": [
    "df_pib[df_pib.NomeMunicipio == 'Campinas'][['Ano','ValTotal'] ]\n",
    "    .join(df_pib[df_pib.NomeMunicipio == 'Campinas'].ValTotal / df_pib[df_pib.NomeMunicipio == 'Campinas'].ValTotal.values[0] * 100, rsuffix='%')"
   ]
  },
  {
   "cell_type": "code",
   "execution_count": 4,
   "metadata": {},
   "outputs": [
    {
     "ename": "NameError",
     "evalue": "name 'df_pib' is not defined",
     "output_type": "error",
     "traceback": [
      "\u001b[0;31m---------------------------------------------------------------------------\u001b[0m",
      "\u001b[0;31mNameError\u001b[0m                                 Traceback (most recent call last)",
      "\u001b[0;32m<ipython-input-4-e14cba599a13>\u001b[0m in \u001b[0;36m<module>\u001b[0;34m\u001b[0m\n\u001b[0;32m----> 1\u001b[0;31m \u001b[0mdf_pib\u001b[0m \u001b[0;34m=\u001b[0m \u001b[0mdf_pib\u001b[0m\u001b[0;34m[\u001b[0m\u001b[0mdf_pib\u001b[0m\u001b[0;34m.\u001b[0m\u001b[0mAno\u001b[0m \u001b[0;34m==\u001b[0m \u001b[0;36m2015\u001b[0m\u001b[0;34m]\u001b[0m\u001b[0;34m\u001b[0m\u001b[0;34m\u001b[0m\u001b[0m\n\u001b[0m\u001b[1;32m      2\u001b[0m \u001b[0mdf_pib\u001b[0m\u001b[0;34m.\u001b[0m\u001b[0mshape\u001b[0m\u001b[0;34m\u001b[0m\u001b[0;34m\u001b[0m\u001b[0m\n",
      "\u001b[0;31mNameError\u001b[0m: name 'df_pib' is not defined"
     ]
    }
   ],
   "source": [
    "df_pib = df_pib[df_pib.Ano == 2015]\n",
    "df_pib.shape"
   ]
  },
  {
   "cell_type": "code",
   "execution_count": 62,
   "metadata": {},
   "outputs": [
    {
     "ename": "FileNotFoundError",
     "evalue": "[Errno 2] File b'/home/christian.janiake/exploratory_data_analisys/ibge_city.csv' does not exist: b'/home/christian.janiake/exploratory_data_analisys/ibge_city.csv'",
     "output_type": "error",
     "traceback": [
      "\u001b[0;31m---------------------------------------------------------------------------\u001b[0m",
      "\u001b[0;31mFileNotFoundError\u001b[0m                         Traceback (most recent call last)",
      "\u001b[0;32m<ipython-input-62-0d2cd929e717>\u001b[0m in \u001b[0;36m<module>\u001b[0;34m\u001b[0m\n\u001b[1;32m      2\u001b[0m             \u001b[0mdelimiter\u001b[0m\u001b[0;34m=\u001b[0m\u001b[0;34m'\\t'\u001b[0m\u001b[0;34m,\u001b[0m\u001b[0;34m\u001b[0m\u001b[0;34m\u001b[0m\u001b[0m\n\u001b[1;32m      3\u001b[0m             names=['id','id_state','title','iso','iso_ddd','population','lat','lng','created_at',\n\u001b[0;32m----> 4\u001b[0;31m                         'updated_at','status'])\n\u001b[0m\u001b[1;32m      5\u001b[0m \u001b[0mdf_ddd\u001b[0m\u001b[0;34m.\u001b[0m\u001b[0mshape\u001b[0m\u001b[0;34m\u001b[0m\u001b[0;34m\u001b[0m\u001b[0m\n",
      "\u001b[0;32m~/anaconda3/lib/python3.7/site-packages/pandas/io/parsers.py\u001b[0m in \u001b[0;36mparser_f\u001b[0;34m(filepath_or_buffer, sep, delimiter, header, names, index_col, usecols, squeeze, prefix, mangle_dupe_cols, dtype, engine, converters, true_values, false_values, skipinitialspace, skiprows, skipfooter, nrows, na_values, keep_default_na, na_filter, verbose, skip_blank_lines, parse_dates, infer_datetime_format, keep_date_col, date_parser, dayfirst, iterator, chunksize, compression, thousands, decimal, lineterminator, quotechar, quoting, doublequote, escapechar, comment, encoding, dialect, tupleize_cols, error_bad_lines, warn_bad_lines, delim_whitespace, low_memory, memory_map, float_precision)\u001b[0m\n\u001b[1;32m    700\u001b[0m                     skip_blank_lines=skip_blank_lines)\n\u001b[1;32m    701\u001b[0m \u001b[0;34m\u001b[0m\u001b[0m\n\u001b[0;32m--> 702\u001b[0;31m         \u001b[0;32mreturn\u001b[0m \u001b[0m_read\u001b[0m\u001b[0;34m(\u001b[0m\u001b[0mfilepath_or_buffer\u001b[0m\u001b[0;34m,\u001b[0m \u001b[0mkwds\u001b[0m\u001b[0;34m)\u001b[0m\u001b[0;34m\u001b[0m\u001b[0;34m\u001b[0m\u001b[0m\n\u001b[0m\u001b[1;32m    703\u001b[0m \u001b[0;34m\u001b[0m\u001b[0m\n\u001b[1;32m    704\u001b[0m     \u001b[0mparser_f\u001b[0m\u001b[0;34m.\u001b[0m\u001b[0m__name__\u001b[0m \u001b[0;34m=\u001b[0m \u001b[0mname\u001b[0m\u001b[0;34m\u001b[0m\u001b[0;34m\u001b[0m\u001b[0m\n",
      "\u001b[0;32m~/anaconda3/lib/python3.7/site-packages/pandas/io/parsers.py\u001b[0m in \u001b[0;36m_read\u001b[0;34m(filepath_or_buffer, kwds)\u001b[0m\n\u001b[1;32m    427\u001b[0m \u001b[0;34m\u001b[0m\u001b[0m\n\u001b[1;32m    428\u001b[0m     \u001b[0;31m# Create the parser.\u001b[0m\u001b[0;34m\u001b[0m\u001b[0;34m\u001b[0m\u001b[0;34m\u001b[0m\u001b[0m\n\u001b[0;32m--> 429\u001b[0;31m     \u001b[0mparser\u001b[0m \u001b[0;34m=\u001b[0m \u001b[0mTextFileReader\u001b[0m\u001b[0;34m(\u001b[0m\u001b[0mfilepath_or_buffer\u001b[0m\u001b[0;34m,\u001b[0m \u001b[0;34m**\u001b[0m\u001b[0mkwds\u001b[0m\u001b[0;34m)\u001b[0m\u001b[0;34m\u001b[0m\u001b[0;34m\u001b[0m\u001b[0m\n\u001b[0m\u001b[1;32m    430\u001b[0m \u001b[0;34m\u001b[0m\u001b[0m\n\u001b[1;32m    431\u001b[0m     \u001b[0;32mif\u001b[0m \u001b[0mchunksize\u001b[0m \u001b[0;32mor\u001b[0m \u001b[0miterator\u001b[0m\u001b[0;34m:\u001b[0m\u001b[0;34m\u001b[0m\u001b[0;34m\u001b[0m\u001b[0m\n",
      "\u001b[0;32m~/anaconda3/lib/python3.7/site-packages/pandas/io/parsers.py\u001b[0m in \u001b[0;36m__init__\u001b[0;34m(self, f, engine, **kwds)\u001b[0m\n\u001b[1;32m    893\u001b[0m             \u001b[0mself\u001b[0m\u001b[0;34m.\u001b[0m\u001b[0moptions\u001b[0m\u001b[0;34m[\u001b[0m\u001b[0;34m'has_index_names'\u001b[0m\u001b[0;34m]\u001b[0m \u001b[0;34m=\u001b[0m \u001b[0mkwds\u001b[0m\u001b[0;34m[\u001b[0m\u001b[0;34m'has_index_names'\u001b[0m\u001b[0;34m]\u001b[0m\u001b[0;34m\u001b[0m\u001b[0;34m\u001b[0m\u001b[0m\n\u001b[1;32m    894\u001b[0m \u001b[0;34m\u001b[0m\u001b[0m\n\u001b[0;32m--> 895\u001b[0;31m         \u001b[0mself\u001b[0m\u001b[0;34m.\u001b[0m\u001b[0m_make_engine\u001b[0m\u001b[0;34m(\u001b[0m\u001b[0mself\u001b[0m\u001b[0;34m.\u001b[0m\u001b[0mengine\u001b[0m\u001b[0;34m)\u001b[0m\u001b[0;34m\u001b[0m\u001b[0;34m\u001b[0m\u001b[0m\n\u001b[0m\u001b[1;32m    896\u001b[0m \u001b[0;34m\u001b[0m\u001b[0m\n\u001b[1;32m    897\u001b[0m     \u001b[0;32mdef\u001b[0m \u001b[0mclose\u001b[0m\u001b[0;34m(\u001b[0m\u001b[0mself\u001b[0m\u001b[0;34m)\u001b[0m\u001b[0;34m:\u001b[0m\u001b[0;34m\u001b[0m\u001b[0;34m\u001b[0m\u001b[0m\n",
      "\u001b[0;32m~/anaconda3/lib/python3.7/site-packages/pandas/io/parsers.py\u001b[0m in \u001b[0;36m_make_engine\u001b[0;34m(self, engine)\u001b[0m\n\u001b[1;32m   1120\u001b[0m     \u001b[0;32mdef\u001b[0m \u001b[0m_make_engine\u001b[0m\u001b[0;34m(\u001b[0m\u001b[0mself\u001b[0m\u001b[0;34m,\u001b[0m \u001b[0mengine\u001b[0m\u001b[0;34m=\u001b[0m\u001b[0;34m'c'\u001b[0m\u001b[0;34m)\u001b[0m\u001b[0;34m:\u001b[0m\u001b[0;34m\u001b[0m\u001b[0;34m\u001b[0m\u001b[0m\n\u001b[1;32m   1121\u001b[0m         \u001b[0;32mif\u001b[0m \u001b[0mengine\u001b[0m \u001b[0;34m==\u001b[0m \u001b[0;34m'c'\u001b[0m\u001b[0;34m:\u001b[0m\u001b[0;34m\u001b[0m\u001b[0;34m\u001b[0m\u001b[0m\n\u001b[0;32m-> 1122\u001b[0;31m             \u001b[0mself\u001b[0m\u001b[0;34m.\u001b[0m\u001b[0m_engine\u001b[0m \u001b[0;34m=\u001b[0m \u001b[0mCParserWrapper\u001b[0m\u001b[0;34m(\u001b[0m\u001b[0mself\u001b[0m\u001b[0;34m.\u001b[0m\u001b[0mf\u001b[0m\u001b[0;34m,\u001b[0m \u001b[0;34m**\u001b[0m\u001b[0mself\u001b[0m\u001b[0;34m.\u001b[0m\u001b[0moptions\u001b[0m\u001b[0;34m)\u001b[0m\u001b[0;34m\u001b[0m\u001b[0;34m\u001b[0m\u001b[0m\n\u001b[0m\u001b[1;32m   1123\u001b[0m         \u001b[0;32melse\u001b[0m\u001b[0;34m:\u001b[0m\u001b[0;34m\u001b[0m\u001b[0;34m\u001b[0m\u001b[0m\n\u001b[1;32m   1124\u001b[0m             \u001b[0;32mif\u001b[0m \u001b[0mengine\u001b[0m \u001b[0;34m==\u001b[0m \u001b[0;34m'python'\u001b[0m\u001b[0;34m:\u001b[0m\u001b[0;34m\u001b[0m\u001b[0;34m\u001b[0m\u001b[0m\n",
      "\u001b[0;32m~/anaconda3/lib/python3.7/site-packages/pandas/io/parsers.py\u001b[0m in \u001b[0;36m__init__\u001b[0;34m(self, src, **kwds)\u001b[0m\n\u001b[1;32m   1851\u001b[0m         \u001b[0mkwds\u001b[0m\u001b[0;34m[\u001b[0m\u001b[0;34m'usecols'\u001b[0m\u001b[0;34m]\u001b[0m \u001b[0;34m=\u001b[0m \u001b[0mself\u001b[0m\u001b[0;34m.\u001b[0m\u001b[0musecols\u001b[0m\u001b[0;34m\u001b[0m\u001b[0;34m\u001b[0m\u001b[0m\n\u001b[1;32m   1852\u001b[0m \u001b[0;34m\u001b[0m\u001b[0m\n\u001b[0;32m-> 1853\u001b[0;31m         \u001b[0mself\u001b[0m\u001b[0;34m.\u001b[0m\u001b[0m_reader\u001b[0m \u001b[0;34m=\u001b[0m \u001b[0mparsers\u001b[0m\u001b[0;34m.\u001b[0m\u001b[0mTextReader\u001b[0m\u001b[0;34m(\u001b[0m\u001b[0msrc\u001b[0m\u001b[0;34m,\u001b[0m \u001b[0;34m**\u001b[0m\u001b[0mkwds\u001b[0m\u001b[0;34m)\u001b[0m\u001b[0;34m\u001b[0m\u001b[0;34m\u001b[0m\u001b[0m\n\u001b[0m\u001b[1;32m   1854\u001b[0m         \u001b[0mself\u001b[0m\u001b[0;34m.\u001b[0m\u001b[0munnamed_cols\u001b[0m \u001b[0;34m=\u001b[0m \u001b[0mself\u001b[0m\u001b[0;34m.\u001b[0m\u001b[0m_reader\u001b[0m\u001b[0;34m.\u001b[0m\u001b[0munnamed_cols\u001b[0m\u001b[0;34m\u001b[0m\u001b[0;34m\u001b[0m\u001b[0m\n\u001b[1;32m   1855\u001b[0m \u001b[0;34m\u001b[0m\u001b[0m\n",
      "\u001b[0;32mpandas/_libs/parsers.pyx\u001b[0m in \u001b[0;36mpandas._libs.parsers.TextReader.__cinit__\u001b[0;34m()\u001b[0m\n",
      "\u001b[0;32mpandas/_libs/parsers.pyx\u001b[0m in \u001b[0;36mpandas._libs.parsers.TextReader._setup_parser_source\u001b[0;34m()\u001b[0m\n",
      "\u001b[0;31mFileNotFoundError\u001b[0m: [Errno 2] File b'/home/christian.janiake/exploratory_data_analisys/ibge_city.csv' does not exist: b'/home/christian.janiake/exploratory_data_analisys/ibge_city.csv'"
     ]
    }
   ],
   "source": [
    "df_ddd = pd.read_csv('/home/christian.janiake/exploratory_data_analisys/ibge_city.csv',\n",
    "            delimiter='\\t',\n",
    "            names=['id','id_state','title','iso','iso_ddd','population','lat','lng','created_at',\n",
    "                        'updated_at','status'])\n",
    "df_ddd.shape"
   ]
  },
  {
   "cell_type": "code",
   "execution_count": 44,
   "metadata": {},
   "outputs": [
    {
     "ename": "NameError",
     "evalue": "name 'df_ddd' is not defined",
     "output_type": "error",
     "traceback": [
      "\u001b[0;31m---------------------------------------------------------------------------\u001b[0m",
      "\u001b[0;31mNameError\u001b[0m                                 Traceback (most recent call last)",
      "\u001b[0;32m<ipython-input-44-568e8de91694>\u001b[0m in \u001b[0;36m<module>\u001b[0;34m\u001b[0m\n\u001b[0;32m----> 1\u001b[0;31m \u001b[0mpib_ddd\u001b[0m \u001b[0;34m=\u001b[0m \u001b[0mdf_pib\u001b[0m\u001b[0;34m.\u001b[0m\u001b[0mmerge\u001b[0m\u001b[0;34m(\u001b[0m\u001b[0mdf_ddd\u001b[0m\u001b[0;34m,\u001b[0m \u001b[0mleft_on\u001b[0m\u001b[0;34m=\u001b[0m\u001b[0;34m'CodMunicipio'\u001b[0m\u001b[0;34m,\u001b[0m \u001b[0mright_on\u001b[0m\u001b[0;34m=\u001b[0m\u001b[0;34m'iso'\u001b[0m\u001b[0;34m)\u001b[0m\u001b[0;34m\u001b[0m\u001b[0;34m\u001b[0m\u001b[0m\n\u001b[0m",
      "\u001b[0;31mNameError\u001b[0m: name 'df_ddd' is not defined"
     ]
    }
   ],
   "source": [
    "pib_ddd = df_pib.merge(df_ddd, left_on='CodMunicipio', right_on='iso')"
   ]
  },
  {
   "cell_type": "code",
   "execution_count": 45,
   "metadata": {},
   "outputs": [
    {
     "ename": "NameError",
     "evalue": "name 'pib_ddd' is not defined",
     "output_type": "error",
     "traceback": [
      "\u001b[0;31m---------------------------------------------------------------------------\u001b[0m",
      "\u001b[0;31mNameError\u001b[0m                                 Traceback (most recent call last)",
      "\u001b[0;32m<ipython-input-45-7c7fae8c7e31>\u001b[0m in \u001b[0;36m<module>\u001b[0;34m\u001b[0m\n\u001b[0;32m----> 1\u001b[0;31m \u001b[0mddd\u001b[0m \u001b[0;34m=\u001b[0m \u001b[0mpib_ddd\u001b[0m\u001b[0;34m.\u001b[0m\u001b[0mgroupby\u001b[0m\u001b[0;34m(\u001b[0m\u001b[0;34m'iso_ddd'\u001b[0m\u001b[0;34m)\u001b[0m\u001b[0;34m.\u001b[0m\u001b[0msum\u001b[0m\u001b[0;34m(\u001b[0m\u001b[0;34m)\u001b[0m\u001b[0;34m\u001b[0m\u001b[0;34m\u001b[0m\u001b[0m\n\u001b[0m",
      "\u001b[0;31mNameError\u001b[0m: name 'pib_ddd' is not defined"
     ]
    }
   ],
   "source": [
    "ddd = pib_ddd.groupby('iso_ddd').sum()"
   ]
  },
  {
   "cell_type": "code",
   "execution_count": 46,
   "metadata": {},
   "outputs": [
    {
     "ename": "SyntaxError",
     "evalue": "invalid character in identifier (<ipython-input-46-8a9f89a4b832>, line 1)",
     "output_type": "error",
     "traceback": [
      "\u001b[0;36m  File \u001b[0;32m\"<ipython-input-46-8a9f89a4b832>\"\u001b[0;36m, line \u001b[0;32m1\u001b[0m\n\u001b[0;31m    ddd[‘Agropecuaria’] = ddd.ValAgropecuaria / ddd.ValTotal\u001b[0m\n\u001b[0m                     ^\u001b[0m\n\u001b[0;31mSyntaxError\u001b[0m\u001b[0;31m:\u001b[0m invalid character in identifier\n"
     ]
    }
   ],
   "source": [
    "ddd[‘Agropecuaria’] = ddd.ValAgropecuaria / ddd.ValTotal\n",
    "ddd[‘Industria’] = ddd.ValIndustria / ddd.ValTotal\n",
    "ddd[‘Servicos’] = ddd.ValServicos / ddd.ValTotal\n",
    "ddd['SetorPublico'] = ddd.ValAdministracao / ddd.ValTotal\n",
    "ddd = ddd.loc[:,'PIB':]\n",
    "ddd"
   ]
  },
  {
   "cell_type": "code",
   "execution_count": 47,
   "metadata": {},
   "outputs": [
    {
     "ename": "NameError",
     "evalue": "name 'pib_ddd' is not defined",
     "output_type": "error",
     "traceback": [
      "\u001b[0;31m---------------------------------------------------------------------------\u001b[0m",
      "\u001b[0;31mNameError\u001b[0m                                 Traceback (most recent call last)",
      "\u001b[0;32m<ipython-input-47-f9e7c32bfef2>\u001b[0m in \u001b[0;36m<module>\u001b[0;34m\u001b[0m\n\u001b[0;32m----> 1\u001b[0;31m \u001b[0mperctot\u001b[0m \u001b[0;34m=\u001b[0m \u001b[0mpib_ddd\u001b[0m\u001b[0;34m.\u001b[0m\u001b[0mgroupby\u001b[0m\u001b[0;34m(\u001b[0m\u001b[0;34m'iso_ddd'\u001b[0m\u001b[0;34m)\u001b[0m\u001b[0;34m[\u001b[0m\u001b[0;34m'PIB'\u001b[0m\u001b[0;34m,\u001b[0m\u001b[0;34m'Populacao'\u001b[0m\u001b[0;34m]\u001b[0m\u001b[0;34m.\u001b[0m\u001b[0msum\u001b[0m\u001b[0;34m(\u001b[0m\u001b[0;34m)\u001b[0m\u001b[0;34m.\u001b[0m\u001b[0mapply\u001b[0m\u001b[0;34m(\u001b[0m\u001b[0;32mlambda\u001b[0m \u001b[0mx\u001b[0m\u001b[0;34m:\u001b[0m \u001b[0mx\u001b[0m \u001b[0;34m/\u001b[0m \u001b[0mx\u001b[0m\u001b[0;34m.\u001b[0m\u001b[0msum\u001b[0m\u001b[0;34m(\u001b[0m\u001b[0;34m)\u001b[0m\u001b[0;34m)\u001b[0m\u001b[0;34m\u001b[0m\u001b[0;34m\u001b[0m\u001b[0m\n\u001b[0m\u001b[1;32m      2\u001b[0m \u001b[0mperctot\u001b[0m\u001b[0;34m.\u001b[0m\u001b[0mcolumns\u001b[0m \u001b[0;34m=\u001b[0m \u001b[0;34m[\u001b[0m\u001b[0;34m'%PIB'\u001b[0m\u001b[0;34m,\u001b[0m \u001b[0;34m'%Pop'\u001b[0m\u001b[0;34m]\u001b[0m\u001b[0;34m\u001b[0m\u001b[0;34m\u001b[0m\u001b[0m\n\u001b[1;32m      3\u001b[0m \u001b[0mddd\u001b[0m \u001b[0;34m=\u001b[0m \u001b[0mddd\u001b[0m\u001b[0;34m.\u001b[0m\u001b[0mjoin\u001b[0m\u001b[0;34m(\u001b[0m\u001b[0mperctot\u001b[0m\u001b[0;34m)\u001b[0m\u001b[0;34m\u001b[0m\u001b[0;34m\u001b[0m\u001b[0m\n\u001b[1;32m      4\u001b[0m \u001b[0mddd\u001b[0m\u001b[0;34m[\u001b[0m\u001b[0;34m'PerCapita'\u001b[0m\u001b[0;34m]\u001b[0m \u001b[0;34m=\u001b[0m \u001b[0mddd\u001b[0m\u001b[0;34m[\u001b[0m\u001b[0;34m'PIB'\u001b[0m\u001b[0;34m]\u001b[0m \u001b[0;34m/\u001b[0m \u001b[0mddd\u001b[0m\u001b[0;34m[\u001b[0m\u001b[0;34m'Populacao'\u001b[0m\u001b[0;34m]\u001b[0m\u001b[0;34m\u001b[0m\u001b[0;34m\u001b[0m\u001b[0m\n\u001b[1;32m      5\u001b[0m \u001b[0mddd\u001b[0m\u001b[0;34m\u001b[0m\u001b[0;34m\u001b[0m\u001b[0m\n",
      "\u001b[0;31mNameError\u001b[0m: name 'pib_ddd' is not defined"
     ]
    }
   ],
   "source": [
    "perctot = pib_ddd.groupby('iso_ddd')['PIB','Populacao'].sum().apply(lambda x: x / x.sum())\n",
    "perctot.columns = ['%PIB', '%Pop']\n",
    "ddd = ddd.join(perctot)\n",
    "ddd['PerCapita'] = ddd['PIB'] / ddd['Populacao']\n",
    "ddd"
   ]
  },
  {
   "cell_type": "code",
   "execution_count": 48,
   "metadata": {},
   "outputs": [
    {
     "ename": "NameError",
     "evalue": "name 'ddd' is not defined",
     "output_type": "error",
     "traceback": [
      "\u001b[0;31m---------------------------------------------------------------------------\u001b[0m",
      "\u001b[0;31mNameError\u001b[0m                                 Traceback (most recent call last)",
      "\u001b[0;32m<ipython-input-48-bee9af7149f3>\u001b[0m in \u001b[0;36m<module>\u001b[0;34m\u001b[0m\n\u001b[0;32m----> 1\u001b[0;31m \u001b[0mddd\u001b[0m\u001b[0;34m.\u001b[0m\u001b[0mplot\u001b[0m\u001b[0;34m(\u001b[0m\u001b[0;34m'%Pop'\u001b[0m\u001b[0;34m,\u001b[0m \u001b[0;34m'%PIB'\u001b[0m\u001b[0;34m,\u001b[0m \u001b[0mkind\u001b[0m\u001b[0;34m=\u001b[0m\u001b[0;34m'scatter'\u001b[0m\u001b[0;34m,\u001b[0m \u001b[0ms\u001b[0m\u001b[0;34m=\u001b[0m\u001b[0mddd\u001b[0m\u001b[0;34m[\u001b[0m\u001b[0;34m'%PIB'\u001b[0m\u001b[0;34m]\u001b[0m \u001b[0;34m*\u001b[0m \u001b[0;36m5000\u001b[0m\u001b[0;34m)\u001b[0m\u001b[0;34m\u001b[0m\u001b[0;34m\u001b[0m\u001b[0m\n\u001b[0m\u001b[1;32m      2\u001b[0m \u001b[0mplt\u001b[0m\u001b[0;34m.\u001b[0m\u001b[0mshow\u001b[0m\u001b[0;34m(\u001b[0m\u001b[0;34m)\u001b[0m\u001b[0;34m\u001b[0m\u001b[0;34m\u001b[0m\u001b[0m\n",
      "\u001b[0;31mNameError\u001b[0m: name 'ddd' is not defined"
     ]
    }
   ],
   "source": [
    "ddd.plot('%Pop', '%PIB', kind='scatter', s=ddd['%PIB'] * 5000)\n",
    "plt.show()"
   ]
  },
  {
   "cell_type": "code",
   "execution_count": 49,
   "metadata": {},
   "outputs": [
    {
     "ename": "NameError",
     "evalue": "name 'ddd' is not defined",
     "output_type": "error",
     "traceback": [
      "\u001b[0;31m---------------------------------------------------------------------------\u001b[0m",
      "\u001b[0;31mNameError\u001b[0m                                 Traceback (most recent call last)",
      "\u001b[0;32m<ipython-input-49-32a08f590cfc>\u001b[0m in \u001b[0;36m<module>\u001b[0;34m\u001b[0m\n\u001b[1;32m      1\u001b[0m \u001b[0mplt\u001b[0m\u001b[0;34m.\u001b[0m\u001b[0mclose\u001b[0m\u001b[0;34m(\u001b[0m\u001b[0;34m)\u001b[0m\u001b[0;34m\u001b[0m\u001b[0;34m\u001b[0m\u001b[0m\n\u001b[1;32m      2\u001b[0m \u001b[0mfig\u001b[0m\u001b[0;34m,\u001b[0m \u001b[0max\u001b[0m \u001b[0;34m=\u001b[0m \u001b[0mplt\u001b[0m\u001b[0;34m.\u001b[0m\u001b[0msubplots\u001b[0m\u001b[0;34m(\u001b[0m\u001b[0;36m2\u001b[0m\u001b[0;34m,\u001b[0m \u001b[0;36m3\u001b[0m\u001b[0;34m,\u001b[0m \u001b[0mfigsize\u001b[0m\u001b[0;34m=\u001b[0m\u001b[0;34m(\u001b[0m\u001b[0;36m12\u001b[0m\u001b[0;34m,\u001b[0m \u001b[0;36m10\u001b[0m\u001b[0;34m)\u001b[0m\u001b[0;34m)\u001b[0m\u001b[0;34m\u001b[0m\u001b[0;34m\u001b[0m\u001b[0m\n\u001b[0;32m----> 3\u001b[0;31m \u001b[0msns\u001b[0m\u001b[0;34m.\u001b[0m\u001b[0mdistplot\u001b[0m\u001b[0;34m(\u001b[0m\u001b[0mddd\u001b[0m\u001b[0;34m[\u001b[0m\u001b[0;34m'Populacao'\u001b[0m\u001b[0;34m]\u001b[0m\u001b[0;34m,\u001b[0m \u001b[0max\u001b[0m\u001b[0;34m=\u001b[0m\u001b[0max\u001b[0m\u001b[0;34m[\u001b[0m\u001b[0;36m0\u001b[0m\u001b[0;34m,\u001b[0m \u001b[0;36m0\u001b[0m\u001b[0;34m]\u001b[0m\u001b[0;34m)\u001b[0m\u001b[0;34m\u001b[0m\u001b[0;34m\u001b[0m\u001b[0m\n\u001b[0m\u001b[1;32m      4\u001b[0m \u001b[0msns\u001b[0m\u001b[0;34m.\u001b[0m\u001b[0mdistplot\u001b[0m\u001b[0;34m(\u001b[0m\u001b[0mddd\u001b[0m\u001b[0;34m[\u001b[0m\u001b[0;34m'PIB'\u001b[0m\u001b[0;34m]\u001b[0m\u001b[0;34m,\u001b[0m \u001b[0max\u001b[0m\u001b[0;34m=\u001b[0m\u001b[0max\u001b[0m\u001b[0;34m[\u001b[0m\u001b[0;36m0\u001b[0m\u001b[0;34m,\u001b[0m \u001b[0;36m1\u001b[0m\u001b[0;34m]\u001b[0m\u001b[0;34m)\u001b[0m\u001b[0;34m\u001b[0m\u001b[0;34m\u001b[0m\u001b[0m\n\u001b[1;32m      5\u001b[0m \u001b[0msns\u001b[0m\u001b[0;34m.\u001b[0m\u001b[0mdistplot\u001b[0m\u001b[0;34m(\u001b[0m\u001b[0mddd\u001b[0m\u001b[0;34m[\u001b[0m\u001b[0;34m'PerCapita'\u001b[0m\u001b[0;34m]\u001b[0m\u001b[0;34m,\u001b[0m \u001b[0max\u001b[0m\u001b[0;34m=\u001b[0m\u001b[0max\u001b[0m\u001b[0;34m[\u001b[0m\u001b[0;36m0\u001b[0m\u001b[0;34m,\u001b[0m \u001b[0;36m2\u001b[0m\u001b[0;34m]\u001b[0m\u001b[0;34m)\u001b[0m\u001b[0;34m\u001b[0m\u001b[0;34m\u001b[0m\u001b[0m\n",
      "\u001b[0;31mNameError\u001b[0m: name 'ddd' is not defined"
     ]
    },
    {
     "data": {
      "image/png": "[encoded data removed]",
      "text/plain": [
       "<Figure size 864x720 with 6 Axes>"
      ]
     },
     "metadata": {
      "needs_background": "light"
     },
     "output_type": "display_data"
    }
   ],
   "source": [
    "plt.close()\n",
    "fig, ax = plt.subplots(2, 3, figsize=(12, 10))\n",
    "sns.distplot(ddd['Populacao'], ax=ax[0, 0])\n",
    "sns.distplot(ddd['PIB'], ax=ax[0, 1])\n",
    "sns.distplot(ddd['PerCapita'], ax=ax[0, 2])\n",
    "sns.kdeplot(ddd['PIB'], ddd['Populacao'], ax=ax[1, 0], clip=((0,2e8),(0,5e6)))\n",
    "sns.kdeplot(ddd['PerCapita'], ddd['Populacao'], ax=ax[1, 1], clip=(0,5e6))\n",
    "sns.kdeplot(ddd['PerCapita'], ddd['PIB'], ax=ax[1, 2], clip=(0,2e8))\n",
    "plt.show()"
   ]
  },
  {
   "cell_type": "code",
   "execution_count": null,
   "metadata": {},
   "outputs": [],
   "source": [
    "# mostrar o acumulado dos setores por DDD\n",
    "rcParams['figure.figsize'] = 10, 20\n",
    "plt.close()\n",
    "ddd.loc[::-1,'Agropecuaria':'SetorPublico'].plot(kind='barh', stacked=True)\n",
    "plt.show()"
   ]
  },
  {
   "cell_type": "code",
   "execution_count": 50,
   "metadata": {},
   "outputs": [],
   "source": [
    "acessos_smp = pd.read_csv('Acessos_SMP_2015-2018_-_DDD.csv', sep=';', index_col=0, )\n",
    "acessos_smp = acessos_smp.dropna()\n"
   ]
  },
  {
   "cell_type": "code",
   "execution_count": 51,
   "metadata": {},
   "outputs": [],
   "source": [
    "acessos_smpT = acessos_smp.T\n",
    "acessos_smpT.index = pd.DatetimeIndex(acessos_smpT.index)\n",
    "acessos_smp_year = acessos_smpT.resample('AS', convention='start').asfreq()"
   ]
  },
  {
   "cell_type": "code",
   "execution_count": 52,
   "metadata": {},
   "outputs": [],
   "source": [
    "dddgroup_access = acessos_smp_year.T.groupby(lambda v: str(v)[0:1] + 'X').sum()"
   ]
  },
  {
   "cell_type": "code",
   "execution_count": 53,
   "metadata": {},
   "outputs": [
    {
     "ename": "SyntaxError",
     "evalue": "invalid syntax (<ipython-input-53-18a159e71fba>, line 2)",
     "output_type": "error",
     "traceback": [
      "\u001b[0;36m  File \u001b[0;32m\"<ipython-input-53-18a159e71fba>\"\u001b[0;36m, line \u001b[0;32m2\u001b[0m\n\u001b[0;31m    .apply(lambda x: x / x.sum() * 100)\u001b[0m\n\u001b[0m    ^\u001b[0m\n\u001b[0;31mSyntaxError\u001b[0m\u001b[0;31m:\u001b[0m invalid syntax\n"
     ]
    }
   ],
   "source": [
    "perctot_access = dddgroup_access.reset_index().groupby('index').sum()\n",
    ".apply(lambda x: x / x.sum() * 100)"
   ]
  },
  {
   "cell_type": "code",
   "execution_count": 28,
   "metadata": {},
   "outputs": [
    {
     "ename": "SyntaxError",
     "evalue": "invalid character in identifier (<ipython-input-28-e3a5606273b2>, line 1)",
     "output_type": "error",
     "traceback": [
      "\u001b[0;36m  File \u001b[0;32m\"<ipython-input-28-e3a5606273b2>\"\u001b[0;36m, line \u001b[0;32m1\u001b[0m\n\u001b[0;31m    df_access_pib = dddgroup.loc[:,[‘%PIB’,’%Pop’]] * 100\u001b[0m\n\u001b[0m                                    ^\u001b[0m\n\u001b[0;31mSyntaxError\u001b[0m\u001b[0;31m:\u001b[0m invalid character in identifier\n"
     ]
    }
   ],
   "source": [
    "df_access_pib = dddgroup.loc[:,[‘%PIB’,’%Pop’]] * 100\n",
    "df_access_pib[‘%SMP’] = perctot_access[perctot_access.columns[-1]]\n",
    "df_access_pib[‘2015/2010’] = perctot_access[perctot_access.columns[-1]] / perctot_access[perctot_access.columns[0]]\n",
    "df_access_pib"
   ]
  },
  {
   "cell_type": "code",
   "execution_count": 29,
   "metadata": {},
   "outputs": [
    {
     "ename": "NameError",
     "evalue": "name 'df_access_pib' is not defined",
     "output_type": "error",
     "traceback": [
      "\u001b[0;31m---------------------------------------------------------------------------\u001b[0m",
      "\u001b[0;31mNameError\u001b[0m                                 Traceback (most recent call last)",
      "\u001b[0;32m<ipython-input-29-5c4b2fcda908>\u001b[0m in \u001b[0;36m<module>\u001b[0;34m\u001b[0m\n\u001b[0;32m----> 1\u001b[0;31m \u001b[0mdf_access_pib\u001b[0m\u001b[0;34m.\u001b[0m\u001b[0mcorr\u001b[0m\u001b[0;34m(\u001b[0m\u001b[0;34m)\u001b[0m\u001b[0;34m\u001b[0m\u001b[0;34m\u001b[0m\u001b[0m\n\u001b[0m",
      "\u001b[0;31mNameError\u001b[0m: name 'df_access_pib' is not defined"
     ]
    }
   ],
   "source": [
    "df_access_pib.corr()"
   ]
  },
  {
   "cell_type": "code",
   "execution_count": 30,
   "metadata": {},
   "outputs": [
    {
     "ename": "SyntaxError",
     "evalue": "invalid character in identifier (<ipython-input-30-c0a003b0c385>, line 1)",
     "output_type": "error",
     "traceback": [
      "\u001b[0;36m  File \u001b[0;32m\"<ipython-input-30-c0a003b0c385>\"\u001b[0;36m, line \u001b[0;32m1\u001b[0m\n\u001b[0;31m    subs[‘perc_subs’] = subs.groupby([‘app’,’carrier’])[‘count’].apply(lambda x: x / x.sum())\u001b[0m\n\u001b[0m                   ^\u001b[0m\n\u001b[0;31mSyntaxError\u001b[0m\u001b[0;31m:\u001b[0m invalid character in identifier\n"
     ]
    }
   ],
   "source": [
    "subs[‘perc_subs’] = subs.groupby([‘app’,’carrier’])[‘count’].apply(lambda x: x / x.sum())"
   ]
  },
  {
   "cell_type": "code",
   "execution_count": 31,
   "metadata": {},
   "outputs": [
    {
     "ename": "NameError",
     "evalue": "name 'ddd_billv' is not defined",
     "output_type": "error",
     "traceback": [
      "\u001b[0;31m---------------------------------------------------------------------------\u001b[0m",
      "\u001b[0;31mNameError\u001b[0m                                 Traceback (most recent call last)",
      "\u001b[0;32m<ipython-input-31-9ca3a9e1d5b8>\u001b[0m in \u001b[0;36m<module>\u001b[0;34m\u001b[0m\n\u001b[0;32m----> 1\u001b[0;31m \u001b[0mddd_billv\u001b[0m\u001b[0;34m.\u001b[0m\u001b[0mloc\u001b[0m\u001b[0;34m[\u001b[0m\u001b[0;36m85\u001b[0m\u001b[0;34m]\u001b[0m\u001b[0;34m.\u001b[0m\u001b[0msort_values\u001b[0m\u001b[0;34m(\u001b[0m\u001b[0mascending\u001b[0m\u001b[0;34m=\u001b[0m\u001b[0;32mFalse\u001b[0m\u001b[0;34m)\u001b[0m\u001b[0;34m.\u001b[0m\u001b[0mhead\u001b[0m\u001b[0;34m(\u001b[0m\u001b[0;34m)\u001b[0m \u001b[0;34m*\u001b[0m \u001b[0;36m100\u001b[0m\u001b[0;34m\u001b[0m\u001b[0;34m\u001b[0m\u001b[0m\n\u001b[0m",
      "\u001b[0;31mNameError\u001b[0m: name 'ddd_billv' is not defined"
     ]
    }
   ],
   "source": [
    "ddd_billv.loc[85].sort_values(ascending=False).head() * 100"
   ]
  },
  {
   "cell_type": "code",
   "execution_count": null,
   "metadata": {},
   "outputs": [],
   "source": []
  }
 ],
 "metadata": {
  "kernelspec": {
   "display_name": "Python 3",
   "language": "python",
   "name": "python3"
  },
  "language_info": {
   "codemirror_mode": {
    "name": "ipython",
    "version": 3
   },
   "file_extension": ".py",
   "mimetype": "text/x-python",
   "name": "python",
   "nbconvert_exporter": "python",
   "pygments_lexer": "ipython3",
   "version": "3.7.3"
  }
 },
 "nbformat": 4,
 "nbformat_minor": 2
}
